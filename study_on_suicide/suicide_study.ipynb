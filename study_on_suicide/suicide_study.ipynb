{
 "cells": [
  {
   "cell_type": "markdown",
   "id": "b48b6419",
   "metadata": {},
   "source": [
    "### Due to the severity of this real-world crisis, what information would be the most important one to \"machine learn\"? Can it be learned?"
   ]
  },
  {
   "cell_type": "markdown",
   "id": "9e47feee",
   "metadata": {},
   "source": [
    "It is important to know who is committing suicide. With that in mind, we need to examine the age groups, demography, and wealth to scratch the surface of this pandemic. I think that this dataset does just that, however, there may be other factors at play that contribute to suicides that are not represented here. The dataset may have enough data to solve the question if it can be learned. Later experiments will likely show that suicide rates and their implication can be learned to some extent."
   ]
  },
  {
   "cell_type": "markdown",
   "id": "2ec6eb14",
   "metadata": {},
   "source": [
    "***"
   ]
  },
  {
   "cell_type": "markdown",
   "id": "d764164b",
   "metadata": {},
   "source": [
    "### In detail how should one set up the problem? Would it be a regression or a classification problem? Any unsupervised approach to see some patterns exist or not?"
   ]
  },
  {
   "cell_type": "markdown",
   "id": "a2867e77",
   "metadata": {},
   "source": [
    "The following can be applied to this data:\n",
    "\n",
    "- The data should be cleaned to remove all missing and/or uknown variables.\n",
    "- Derived data should be excluded, such as country-year.\n",
    "- Clustering can be done for feature extraction, \n",
    "- Feature correlation can be applied to see what a possible dependent variable is.\n",
    "- Feature reduction can be applied to weed out features that may hinder training.\n",
    "- The answer whether it is a classification problem vs regression problem will be found by performing the last three bullet points. If it is found that the dependent variable is continous, then regression will be used, otherwise classification will be used. "
   ]
  },
  {
   "cell_type": "markdown",
   "id": "18b8d326",
   "metadata": {},
   "source": [
    "***"
   ]
  },
  {
   "cell_type": "markdown",
   "id": "50a458aa",
   "metadata": {},
   "source": [
    "### What should be the dependent variable?"
   ]
  },
  {
   "cell_type": "code",
   "execution_count": 1,
   "id": "64c1e504",
   "metadata": {},
   "outputs": [],
   "source": [
    "##imports\n",
    "import os\n",
    "import pandas as pd\n",
    "import numpy as np\n",
    "import matplotlib.pyplot as plt\n",
    "import seaborn as sns\n",
    "\n",
    "##get current working directory\n",
    "cwd = os.getcwd()\n",
    "\n",
    "##get data path and open as a pandas dataframe\n",
    "data_path = cwd + '\\\\data\\\\master_preproc.csv'\n",
    "df = pd.read_csv(data_path)"
   ]
  },
  {
   "cell_type": "code",
   "execution_count": 2,
   "id": "6dd25aec",
   "metadata": {},
   "outputs": [
    {
     "data": {
      "text/html": [
       "<div>\n",
       "<style scoped>\n",
       "    .dataframe tbody tr th:only-of-type {\n",
       "        vertical-align: middle;\n",
       "    }\n",
       "\n",
       "    .dataframe tbody tr th {\n",
       "        vertical-align: top;\n",
       "    }\n",
       "\n",
       "    .dataframe thead th {\n",
       "        text-align: right;\n",
       "    }\n",
       "</style>\n",
       "<table border=\"1\" class=\"dataframe\">\n",
       "  <thead>\n",
       "    <tr style=\"text-align: right;\">\n",
       "      <th></th>\n",
       "      <th>year</th>\n",
       "      <th>sex</th>\n",
       "      <th>suicides_no</th>\n",
       "      <th>population</th>\n",
       "      <th>gdp_for_year</th>\n",
       "      <th>gdp_per_capita</th>\n",
       "      <th>generation_encoded</th>\n",
       "    </tr>\n",
       "  </thead>\n",
       "  <tbody>\n",
       "    <tr>\n",
       "      <th>count</th>\n",
       "      <td>27820.000000</td>\n",
       "      <td>27820.000000</td>\n",
       "      <td>27820.000000</td>\n",
       "      <td>2.782000e+04</td>\n",
       "      <td>2.782000e+04</td>\n",
       "      <td>27820.000000</td>\n",
       "      <td>27820.000000</td>\n",
       "    </tr>\n",
       "    <tr>\n",
       "      <th>mean</th>\n",
       "      <td>2001.258375</td>\n",
       "      <td>1.500000</td>\n",
       "      <td>242.574407</td>\n",
       "      <td>1.844794e+06</td>\n",
       "      <td>4.455979e+11</td>\n",
       "      <td>16866.464414</td>\n",
       "      <td>3.701869</td>\n",
       "    </tr>\n",
       "    <tr>\n",
       "      <th>std</th>\n",
       "      <td>8.469055</td>\n",
       "      <td>0.500009</td>\n",
       "      <td>902.047917</td>\n",
       "      <td>3.911779e+06</td>\n",
       "      <td>1.453907e+12</td>\n",
       "      <td>18887.576472</td>\n",
       "      <td>1.809836</td>\n",
       "    </tr>\n",
       "    <tr>\n",
       "      <th>min</th>\n",
       "      <td>1985.000000</td>\n",
       "      <td>1.000000</td>\n",
       "      <td>0.000000</td>\n",
       "      <td>2.780000e+02</td>\n",
       "      <td>4.691962e+07</td>\n",
       "      <td>251.000000</td>\n",
       "      <td>1.000000</td>\n",
       "    </tr>\n",
       "    <tr>\n",
       "      <th>25%</th>\n",
       "      <td>1995.000000</td>\n",
       "      <td>1.000000</td>\n",
       "      <td>3.000000</td>\n",
       "      <td>9.749850e+04</td>\n",
       "      <td>8.985353e+09</td>\n",
       "      <td>3447.000000</td>\n",
       "      <td>2.000000</td>\n",
       "    </tr>\n",
       "    <tr>\n",
       "      <th>50%</th>\n",
       "      <td>2002.000000</td>\n",
       "      <td>1.500000</td>\n",
       "      <td>25.000000</td>\n",
       "      <td>4.301500e+05</td>\n",
       "      <td>4.811469e+10</td>\n",
       "      <td>9372.000000</td>\n",
       "      <td>3.000000</td>\n",
       "    </tr>\n",
       "    <tr>\n",
       "      <th>75%</th>\n",
       "      <td>2008.000000</td>\n",
       "      <td>2.000000</td>\n",
       "      <td>131.000000</td>\n",
       "      <td>1.486143e+06</td>\n",
       "      <td>2.600000e+11</td>\n",
       "      <td>24874.000000</td>\n",
       "      <td>5.000000</td>\n",
       "    </tr>\n",
       "    <tr>\n",
       "      <th>max</th>\n",
       "      <td>2016.000000</td>\n",
       "      <td>2.000000</td>\n",
       "      <td>22338.000000</td>\n",
       "      <td>4.380521e+07</td>\n",
       "      <td>1.810000e+13</td>\n",
       "      <td>126352.000000</td>\n",
       "      <td>6.000000</td>\n",
       "    </tr>\n",
       "  </tbody>\n",
       "</table>\n",
       "</div>"
      ],
      "text/plain": [
       "               year           sex   suicides_no    population  gdp_for_year  \\\n",
       "count  27820.000000  27820.000000  27820.000000  2.782000e+04  2.782000e+04   \n",
       "mean    2001.258375      1.500000    242.574407  1.844794e+06  4.455979e+11   \n",
       "std        8.469055      0.500009    902.047917  3.911779e+06  1.453907e+12   \n",
       "min     1985.000000      1.000000      0.000000  2.780000e+02  4.691962e+07   \n",
       "25%     1995.000000      1.000000      3.000000  9.749850e+04  8.985353e+09   \n",
       "50%     2002.000000      1.500000     25.000000  4.301500e+05  4.811469e+10   \n",
       "75%     2008.000000      2.000000    131.000000  1.486143e+06  2.600000e+11   \n",
       "max     2016.000000      2.000000  22338.000000  4.380521e+07  1.810000e+13   \n",
       "\n",
       "       gdp_per_capita  generation_encoded  \n",
       "count    27820.000000        27820.000000  \n",
       "mean     16866.464414            3.701869  \n",
       "std      18887.576472            1.809836  \n",
       "min        251.000000            1.000000  \n",
       "25%       3447.000000            2.000000  \n",
       "50%       9372.000000            3.000000  \n",
       "75%      24874.000000            5.000000  \n",
       "max     126352.000000            6.000000  "
      ]
     },
     "execution_count": 2,
     "metadata": {},
     "output_type": "execute_result"
    }
   ],
   "source": [
    "##take a closer look at the data\n",
    "df.describe()"
   ]
  },
  {
   "cell_type": "code",
   "execution_count": 3,
   "id": "890a4f22",
   "metadata": {},
   "outputs": [
    {
     "data": {
      "text/html": [
       "<div>\n",
       "<style scoped>\n",
       "    .dataframe tbody tr th:only-of-type {\n",
       "        vertical-align: middle;\n",
       "    }\n",
       "\n",
       "    .dataframe tbody tr th {\n",
       "        vertical-align: top;\n",
       "    }\n",
       "\n",
       "    .dataframe thead th {\n",
       "        text-align: right;\n",
       "    }\n",
       "</style>\n",
       "<table border=\"1\" class=\"dataframe\">\n",
       "  <thead>\n",
       "    <tr style=\"text-align: right;\">\n",
       "      <th></th>\n",
       "      <th>year</th>\n",
       "      <th>sex</th>\n",
       "      <th>suicides_no</th>\n",
       "      <th>population</th>\n",
       "      <th>gdp_for_year</th>\n",
       "      <th>gdp_per_capita</th>\n",
       "      <th>generation_encoded</th>\n",
       "    </tr>\n",
       "  </thead>\n",
       "  <tbody>\n",
       "    <tr>\n",
       "      <th>year</th>\n",
       "      <td>1.000000e+00</td>\n",
       "      <td>-4.369174e-17</td>\n",
       "      <td>-0.004546</td>\n",
       "      <td>0.008850</td>\n",
       "      <td>9.451141e-02</td>\n",
       "      <td>3.391343e-01</td>\n",
       "      <td>2.683006e-01</td>\n",
       "    </tr>\n",
       "    <tr>\n",
       "      <th>sex</th>\n",
       "      <td>-4.369174e-17</td>\n",
       "      <td>1.000000e+00</td>\n",
       "      <td>0.144629</td>\n",
       "      <td>-0.011242</td>\n",
       "      <td>1.209552e-15</td>\n",
       "      <td>3.966174e-16</td>\n",
       "      <td>-9.490607e-18</td>\n",
       "    </tr>\n",
       "    <tr>\n",
       "      <th>suicides_no</th>\n",
       "      <td>-4.545958e-03</td>\n",
       "      <td>1.446292e-01</td>\n",
       "      <td>1.000000</td>\n",
       "      <td>0.616162</td>\n",
       "      <td>4.300673e-01</td>\n",
       "      <td>6.132975e-02</td>\n",
       "      <td>-7.062371e-02</td>\n",
       "    </tr>\n",
       "    <tr>\n",
       "      <th>population</th>\n",
       "      <td>8.850170e-03</td>\n",
       "      <td>-1.124208e-02</td>\n",
       "      <td>0.616162</td>\n",
       "      <td>1.000000</td>\n",
       "      <td>7.106923e-01</td>\n",
       "      <td>8.150986e-02</td>\n",
       "      <td>-6.796261e-02</td>\n",
       "    </tr>\n",
       "    <tr>\n",
       "      <th>gdp_for_year</th>\n",
       "      <td>9.451141e-02</td>\n",
       "      <td>1.209552e-15</td>\n",
       "      <td>0.430067</td>\n",
       "      <td>0.710692</td>\n",
       "      <td>1.000000e+00</td>\n",
       "      <td>3.033556e-01</td>\n",
       "      <td>2.125785e-02</td>\n",
       "    </tr>\n",
       "    <tr>\n",
       "      <th>gdp_per_capita</th>\n",
       "      <td>3.391343e-01</td>\n",
       "      <td>3.966174e-16</td>\n",
       "      <td>0.061330</td>\n",
       "      <td>0.081510</td>\n",
       "      <td>3.033556e-01</td>\n",
       "      <td>1.000000e+00</td>\n",
       "      <td>8.289921e-02</td>\n",
       "    </tr>\n",
       "    <tr>\n",
       "      <th>generation_encoded</th>\n",
       "      <td>2.683006e-01</td>\n",
       "      <td>-9.490607e-18</td>\n",
       "      <td>-0.070624</td>\n",
       "      <td>-0.067963</td>\n",
       "      <td>2.125785e-02</td>\n",
       "      <td>8.289921e-02</td>\n",
       "      <td>1.000000e+00</td>\n",
       "    </tr>\n",
       "  </tbody>\n",
       "</table>\n",
       "</div>"
      ],
      "text/plain": [
       "                            year           sex  suicides_no  population  \\\n",
       "year                1.000000e+00 -4.369174e-17    -0.004546    0.008850   \n",
       "sex                -4.369174e-17  1.000000e+00     0.144629   -0.011242   \n",
       "suicides_no        -4.545958e-03  1.446292e-01     1.000000    0.616162   \n",
       "population          8.850170e-03 -1.124208e-02     0.616162    1.000000   \n",
       "gdp_for_year        9.451141e-02  1.209552e-15     0.430067    0.710692   \n",
       "gdp_per_capita      3.391343e-01  3.966174e-16     0.061330    0.081510   \n",
       "generation_encoded  2.683006e-01 -9.490607e-18    -0.070624   -0.067963   \n",
       "\n",
       "                    gdp_for_year  gdp_per_capita  generation_encoded  \n",
       "year                9.451141e-02    3.391343e-01        2.683006e-01  \n",
       "sex                 1.209552e-15    3.966174e-16       -9.490607e-18  \n",
       "suicides_no         4.300673e-01    6.132975e-02       -7.062371e-02  \n",
       "population          7.106923e-01    8.150986e-02       -6.796261e-02  \n",
       "gdp_for_year        1.000000e+00    3.033556e-01        2.125785e-02  \n",
       "gdp_per_capita      3.033556e-01    1.000000e+00        8.289921e-02  \n",
       "generation_encoded  2.125785e-02    8.289921e-02        1.000000e+00  "
      ]
     },
     "execution_count": 3,
     "metadata": {},
     "output_type": "execute_result"
    }
   ],
   "source": [
    "##look at feature correlation \n",
    "df.corr()"
   ]
  },
  {
   "cell_type": "code",
   "execution_count": 4,
   "id": "0ab48b20",
   "metadata": {
    "scrolled": true
   },
   "outputs": [
    {
     "data": {
      "image/png": "[encoded data removed]",
      "text/plain": [
       "<Figure size 432x288 with 2 Axes>"
      ]
     },
     "metadata": {
      "needs_background": "light"
     },
     "output_type": "display_data"
    }
   ],
   "source": [
    "corr_plot = sns.heatmap(df.corr())"
   ]
  },
  {
   "cell_type": "markdown",
   "id": "0cfb78ed",
   "metadata": {},
   "source": [
    "__Dependent Variable__: The dependent variable is suicide genaration."
   ]
  },
  {
   "cell_type": "markdown",
   "id": "04303a46",
   "metadata": {},
   "source": [
    "***"
   ]
  },
  {
   "cell_type": "markdown",
   "id": "0ec6834d",
   "metadata": {},
   "source": [
    "### Rank the variables to find some strong correlations between the independent variables and the dependent variable you decided.\n"
   ]
  },
  {
   "cell_type": "markdown",
   "id": "ef02d320",
   "metadata": {},
   "source": [
    "Using seaborn to visualize the heatmap derived from pandas correlation function, it can be seen that the correlations in descending order are:\n",
    "\n",
    "Positive correlation rankings:\n",
    "1. Year\n",
    "2. Gdp_per_capita\n",
    "3. GDP_for_year\n",
    "\n",
    "Negative correlation rankings:\n",
    "1. suicide_no\n",
    "2. population\n",
    "3. sex"
   ]
  },
  {
   "cell_type": "markdown",
   "id": "f92931be",
   "metadata": {},
   "source": [
    "***"
   ]
  },
  {
   "cell_type": "markdown",
   "id": "d5ff90a6",
   "metadata": {},
   "source": [
    "### Pre-process the dataset and list the major features you want to use. Note that not all features are crucial. For example, country-year variable is a derived feature and for a classifier it would not be necessary to include the year, the country and the country-year together. In fact, one must avoid adding a derived feature and the original at the same time.List the independent features you want to use."
   ]
  },
  {
   "cell_type": "markdown",
   "id": "8d4afa56",
   "metadata": {},
   "source": [
    "The preprocess step was done in excel for simplicity. Country-year, \n",
    "and suicides/100k features were removed since they were derived solely on the data. Age was also removed, because there were the same number of age groups as unique generation names. HDI_for_year was also removed, because that data was not consistently collected and was missing a significant amount of values. \n",
    "\n",
    "Generation names and sex were encoded as counting numbers to sidestep more complicated encoding methods. Along the same logic, country was deleted form the dataset to sidestep encoding hundreds of country names.\n",
    "\n",
    "The data was normalized using scikit-learn's preprocess library. Finally, the data was spit into a trainset, testset, and validation set prior to training.\n"
   ]
  },
  {
   "cell_type": "markdown",
   "id": "345b7607",
   "metadata": {},
   "source": [
    "***"
   ]
  },
  {
   "cell_type": "markdown",
   "id": "5230b576",
   "metadata": {},
   "source": [
    "### Devise a classifier for this dataset and present a first trial model. Note that we will continue to this problem in the following modules."
   ]
  },
  {
   "cell_type": "code",
   "execution_count": 5,
   "id": "d7971ebe",
   "metadata": {},
   "outputs": [],
   "source": [
    "##get X, y values from dataframe\n",
    "y = df.sex\n",
    "target_names = list(set(list(df.sex)))\n",
    "df.drop(\"suicides_no\", axis='columns', inplace=True)\n",
    "X = df.values\n",
    "\n",
    "##normalize data prior to split\n",
    "from sklearn.preprocessing import Normalizer\n",
    "transformer = Normalizer().fit(X)  # fit does nothing.\n",
    "X = transformer.transform(X)\n",
    "\n",
    "##split the data\n",
    "from sklearn.model_selection import train_test_split\n",
    "X_train, X_test, y_train, y_test = train_test_split(X, y, test_size=0.25, random_state=42)"
   ]
  },
  {
   "cell_type": "code",
   "execution_count": 6,
   "id": "68b465e1",
   "metadata": {},
   "outputs": [
    {
     "name": "stderr",
     "output_type": "stream",
     "text": [
      "[Parallel(n_jobs=1)]: Using backend SequentialBackend with 1 concurrent workers.\n",
      "[Parallel(n_jobs=1)]: Done 100 out of 100 | elapsed:    1.0s finished\n"
     ]
    },
    {
     "data": {
      "text/plain": [
       "RandomForestClassifier(verbose=True)"
      ]
     },
     "execution_count": 6,
     "metadata": {},
     "output_type": "execute_result"
    }
   ],
   "source": [
    "##train Random forest classifier\n",
    "from sklearn.ensemble import RandomForestClassifier\n",
    "rf = RandomForestClassifier(n_estimators=100, verbose=True)\n",
    "rf.fit(X_train, y_train)"
   ]
  },
  {
   "cell_type": "code",
   "execution_count": 7,
   "id": "b4a642f4",
   "metadata": {},
   "outputs": [
    {
     "name": "stdout",
     "output_type": "stream",
     "text": [
      "Test Accuracy : 0.485\n"
     ]
    },
    {
     "name": "stderr",
     "output_type": "stream",
     "text": [
      "[Parallel(n_jobs=1)]: Using backend SequentialBackend with 1 concurrent workers.\n",
      "[Parallel(n_jobs=1)]: Done 100 out of 100 | elapsed:    0.0s finished\n"
     ]
    }
   ],
   "source": [
    "##get predictions\n",
    "y_pred = rf.predict(X_test)\n",
    "\n",
    "##evaluate model\n",
    "from sklearn.metrics import classification_report\n",
    "y_pred = list(y_pred)\n",
    "print('Test Accuracy : %.3f'%(y_pred == y_test).mean())"
   ]
  },
  {
   "cell_type": "markdown",
   "id": "d7da708f",
   "metadata": {},
   "source": [
    "__dependent variables tested__\n",
    " - generation: 0.303 accuracy\n",
    " - sex: 0.48\n",
    "\n",
    "Note: Though sex has the highest accuracy score, that is misleading, because there are only two unique sex values (male and female), whereas generation has six, make it a better dependent variable for classification."
   ]
  },
  {
   "cell_type": "code",
   "execution_count": null,
   "id": "8431899e",
   "metadata": {},
   "outputs": [],
   "source": []
  }
 ],
 "metadata": {
  "kernelspec": {
   "display_name": "Python 3 (ipykernel)",
   "language": "python",
   "name": "python3"
  },
  "language_info": {
   "codemirror_mode": {
    "name": "ipython",
    "version": 3
   },
   "file_extension": ".py",
   "mimetype": "text/x-python",
   "name": "python",
   "nbconvert_exporter": "python",
   "pygments_lexer": "ipython3",
   "version": "3.9.7"
  }
 },
 "nbformat": 4,
 "nbformat_minor": 5
}
